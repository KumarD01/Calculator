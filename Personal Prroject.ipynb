{
 "cells": [
  {
   "cell_type": "code",
   "execution_count": null,
   "metadata": {},
   "outputs": [],
   "source": [
    "# CALCULATOR FOR SIMPLE CALCULATION\n",
    "\n",
    "first = input('enter first number : ')\n",
    "operator = input('enter operator (+, -, *, /, %) :')\n",
    "\n",
    "second = input('enter second number : ')\n",
    "\n",
    "first = int(first)\n",
    "second = int(second)\n",
    "\n",
    "if operator == \"+\":\n",
    "    print(first + second )\n",
    "elif operator == \"-\":\n",
    "    print(first - second )\n",
    "elif operator == \"/\":\n",
    "    print(first / second )\n",
    "elif operator == \"*\":\n",
    "    print(first * second )\n",
    "elif operator == \"%\":\n",
    "    print(first % second )\n",
    "else:\n",
    "    print('Invalid Input')\n",
    "\n",
    " "
   ]
  }
 ],
 "metadata": {
  "kernelspec": {
   "display_name": "Python 3",
   "language": "python",
   "name": "python3"
  },
  "language_info": {
   "name": "python",
   "version": "3.10.7"
  },
  "orig_nbformat": 4
 },
 "nbformat": 4,
 "nbformat_minor": 2
}
